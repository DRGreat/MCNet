{
 "cells": [
  {
   "cell_type": "code",
   "execution_count": 37,
   "metadata": {},
   "outputs": [
    {
     "name": "stdout",
     "output_type": "stream",
     "text": [
      "torch.Size([100, 512, 3, 3])\n"
     ]
    }
   ],
   "source": [
    "import torch\n",
    "import torchvision.models as models\n",
    "import torch.nn as nn\n",
    "\n",
    "x = torch.randn(100,3,84,84)\n",
    "class ResNet18(nn.Module):\n",
    "    def __init__(self):\n",
    "        super(ResNet18,self).__init__()\n",
    "        self.backbone = models.resnet18(pretrained=True)\n",
    "    def forward(self,img):\n",
    "        feat = self.backbone.conv1.forward(img)\n",
    "        feat = self.backbone.bn1.forward(feat)\n",
    "        feat = self.backbone.relu.forward(feat)\n",
    "        feat = self.backbone.maxpool.forward(feat)\n",
    "\n",
    "        for lid in range(1,4):\n",
    "            for bid in range(2):\n",
    "                res = feat\n",
    "                feat = self.backbone.__getattr__('layer%d' % lid)[bid].conv1.forward(feat)\n",
    "                feat = self.backbone.__getattr__('layer%d' % lid)[bid].bn1.forward(feat)\n",
    "                feat = self.backbone.__getattr__('layer%d' % lid)[bid].relu.forward(feat)\n",
    "                feat = self.backbone.__getattr__('layer%d' % lid)[bid].conv2.forward(feat)\n",
    "                feat = self.backbone.__getattr__('layer%d' % lid)[bid].bn2.forward(feat)\n",
    "\n",
    "                if bid == 0 and self.backbone.__getattr__('layer%d' % lid)[bid].downsample != None:\n",
    "                    res = self.backbone.__getattr__('layer%d' % lid)[bid].downsample.forward(res)\n",
    "\n",
    "                feat += res\n",
    "                feat = self.backbone.__getattr__('layer%d' % lid)[bid].relu.forward(feat)\n",
    "\n",
    "\n",
    "        return feat\n",
    "\n",
    "model = ResNet18()\n",
    "x = model(x)\n",
    "print(x.size())\n",
    "\n",
    "\n",
    "        "
   ]
  },
  {
   "cell_type": "code",
   "execution_count": 36,
   "metadata": {},
   "outputs": [
    {
     "name": "stdout",
     "output_type": "stream",
     "text": [
      "Sequential(\n",
      "  (0): BasicBlock(\n",
      "    (conv1): Conv2d(256, 512, kernel_size=(3, 3), stride=(2, 2), padding=(1, 1), bias=False)\n",
      "    (bn1): BatchNorm2d(512, eps=1e-05, momentum=0.1, affine=True, track_running_stats=True)\n",
      "    (relu): ReLU(inplace=True)\n",
      "    (conv2): Conv2d(512, 512, kernel_size=(3, 3), stride=(1, 1), padding=(1, 1), bias=False)\n",
      "    (bn2): BatchNorm2d(512, eps=1e-05, momentum=0.1, affine=True, track_running_stats=True)\n",
      "    (downsample): Sequential(\n",
      "      (0): Conv2d(256, 512, kernel_size=(1, 1), stride=(2, 2), bias=False)\n",
      "      (1): BatchNorm2d(512, eps=1e-05, momentum=0.1, affine=True, track_running_stats=True)\n",
      "    )\n",
      "  )\n",
      "  (1): BasicBlock(\n",
      "    (conv1): Conv2d(512, 512, kernel_size=(3, 3), stride=(1, 1), padding=(1, 1), bias=False)\n",
      "    (bn1): BatchNorm2d(512, eps=1e-05, momentum=0.1, affine=True, track_running_stats=True)\n",
      "    (relu): ReLU(inplace=True)\n",
      "    (conv2): Conv2d(512, 512, kernel_size=(3, 3), stride=(1, 1), padding=(1, 1), bias=False)\n",
      "    (bn2): BatchNorm2d(512, eps=1e-05, momentum=0.1, affine=True, track_running_stats=True)\n",
      "  )\n",
      ")\n"
     ]
    }
   ],
   "source": [
    "model = models.resnet18(pretrained=True)\n",
    "print(model.layer4)"
   ]
  }
 ],
 "metadata": {
  "interpreter": {
   "hash": "e8af5b530489d87350c558dce91ebc0f97e77990ab9d68db5f5c910130ef858a"
  },
  "kernelspec": {
   "display_name": "Python 3.7.11 ('py3')",
   "language": "python",
   "name": "python3"
  },
  "language_info": {
   "codemirror_mode": {
    "name": "ipython",
    "version": 3
   },
   "file_extension": ".py",
   "mimetype": "text/x-python",
   "name": "python",
   "nbconvert_exporter": "python",
   "pygments_lexer": "ipython3",
   "version": "3.7.1"
  },
  "orig_nbformat": 4
 },
 "nbformat": 4,
 "nbformat_minor": 2
}
